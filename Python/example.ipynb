{
 "cells": [
  {
   "cell_type": "code",
   "execution_count": 1,
   "id": "bfffdb0c",
   "metadata": {},
   "outputs": [],
   "source": [
    "from customdataset import CustomDataset\n",
    "from SSD import *\n",
    "from train_step import train_step\n",
    "from eval_step import test_step\n",
    "import os\n",
    "import torch\n",
    "from sklearn.model_selection import train_test_split\n",
    "from torch.utils.data import DataLoader"
   ]
  },
  {
   "cell_type": "code",
   "execution_count": 2,
   "id": "81b89bba",
   "metadata": {},
   "outputs": [],
   "source": [
    "PATH=os.getenv(\"HOME\")+\"/aiffel/ECG_data/physionet.org/files/circor-heart-sound/1.0.3/training_data\"\n",
    "file_list = os.listdir(PATH)\n",
    "txt_list = [os.path.join(PATH, file) for file in file_list if file.endswith(\".txt\")]\n",
    "\n",
    "# 환자 아이디를 훈련 데이터셋과 테스트 데이터셋으로 나눔\n",
    "train_patient_txt, test_patient_txt = train_test_split(txt_list, test_size=0.9, random_state=42)\n",
    "\n",
    "# 결과 출력\n",
    "#print(\"Train Patient IDs:\", train_patient_txt[:1])\n",
    "#print(\"Test Patient IDs:\", test_patient_txt[:1])\n",
    "\n",
    "#path, txt_list, filter_params, target_size, th, resizing\n",
    "dataset = CustomDataset(PATH, train_patient_txt, target_size=(300, 300), th=5, resizing=True)\n",
    "\n",
    "\n",
    "def my_collate_fn(batch):\n",
    "    targets = []\n",
    "    imgs = []\n",
    "    for sample in batch:\n",
    "        imgs.append(sample[0])  # sample[0]은 화상 gt\n",
    "        targets.append(torch.FloatTensor(sample[1]))  # sample[1]은 어노테이션 gt\n",
    "\n",
    "    imgs = torch.stack(imgs, dim=0)\n",
    "    return imgs, targets\n",
    "BATCHSIZE = 8\n",
    "train_dataloader = DataLoader(dataset, batch_size=BATCHSIZE, shuffle=True, collate_fn=my_collate_fn)"
   ]
  },
  {
   "cell_type": "markdown",
   "id": "7033be29",
   "metadata": {},
   "source": [
    "# train_step"
   ]
  },
  {
   "cell_type": "code",
   "execution_count": 3,
   "id": "9fc666e4",
   "metadata": {},
   "outputs": [],
   "source": [
    "DEVICE = torch.device(\"cuda:0\" if torch.cuda.is_available() else \"cpu\")\n",
    "model = build_model(\"Train\", input_channels=1, is_freeze=False)\n",
    "#model_weight_path='./objectdetection_model/ssd300_weight_100.pth'\n",
    "#weight = torch.load(model_weight_path)\n",
    "#model.load_state_dict(weight)"
   ]
  },
  {
   "cell_type": "code",
   "execution_count": null,
   "id": "867c61e5",
   "metadata": {},
   "outputs": [],
   "source": [
    "_optim_type = \"Adam\"\n",
    "_lr=2e-3\n",
    "_model_name = \"MnetSSD\"\n",
    "_is_freeze = \"False\"\n",
    "\n",
    "train_step(model, train_dataloader,epoch_num = 100, batchsize=BATCHSIZE,\n",
    "           optim_type = _optim_type, lr=_lr, device = DEVICE, model_name = _model_name,\n",
    "           is_wandb=False, is_freeze=_is_freeze)\n"
   ]
  },
  {
   "cell_type": "markdown",
   "id": "2ba217ee",
   "metadata": {},
   "source": [
    "# test_step"
   ]
  },
  {
   "cell_type": "code",
   "execution_count": 3,
   "id": "6cef721f",
   "metadata": {},
   "outputs": [],
   "source": [
    "_optim_type = \"Adam\"\n",
    "_lr=2e-3\n",
    "_model_name = \"MnetSSD\"\n",
    "_is_freeze = \"False\"\n",
    "\n",
    "\n",
    "DEVICE = torch.device(\"cuda:0\" if torch.cuda.is_available() else \"cpu\")\n",
    "model = build_model(\"Test\", input_channels=1)\n",
    "model_weight_path='./objectdetection_model/'+f'{_model_name}_weight_100_{BATCHSIZE}_{_optim_type}_{_is_freeze}.pth'\n",
    "weight = torch.load(model_weight_path)\n",
    "model.load_state_dict(weight)\n",
    "model.eval()\n",
    "\n",
    "DEVICE = torch.device(\"cuda:0\" if torch.cuda.is_available() else \"cpu\")"
   ]
  },
  {
   "cell_type": "code",
   "execution_count": null,
   "id": "5876454d",
   "metadata": {},
   "outputs": [],
   "source": [
    "import warnings \n",
    "warnings.filterwarnings('ignore')\n",
    "recall, precison, _ = test_step(model, train_dataloader, device = DEVICE)\n",
    "\n",
    "print(total_TP_1,total_TP_2)\n",
    "print(total_FP,total_FN)"
   ]
  },
  {
   "cell_type": "code",
   "execution_count": 5,
   "id": "d2d81530",
   "metadata": {},
   "outputs": [
    {
     "name": "stdout",
     "output_type": "stream",
     "text": [
      "0.9571545419764123 0.9616425424291875\n"
     ]
    }
   ],
   "source": [
    "print(recall, precison)"
   ]
  },
  {
   "cell_type": "code",
   "execution_count": 7,
   "id": "b16030e2",
   "metadata": {},
   "outputs": [],
   "source": [
    "!pip freeze | grep -E \"torch\" >> requirements.txt\n",
    "!pip freeze | grep -E \"skimage\" >> requirements.txt\n",
    "!pip freeze | grep -E \"numpy\" >> requirements.txt\n",
    "!pip freeze | grep -E \"librosa\" >> requirements.txt\n",
    "!pip freeze | grep -E \"wandb\" >> requirements.txt\n",
    "!pip freeze | grep -E \"scipy\" >> requirements.txt\n",
    "!pip freeze | grep -E \"time\" >> requirements.txt\n",
    "!pip freeze | grep -E \"pandas\" >> requirements.txt\n",
    "!pip freeze | grep -E \"matplotlib\" >> requirements.txt"
   ]
  },
  {
   "cell_type": "code",
   "execution_count": 7,
   "id": "81998dcd",
   "metadata": {},
   "outputs": [],
   "source": [
    "!pip freeze | grep -E \"numpy\" >> requirements.txt"
   ]
  },
  {
   "cell_type": "code",
   "execution_count": null,
   "id": "41670da7",
   "metadata": {},
   "outputs": [],
   "source": []
  }
 ],
 "metadata": {
  "kernelspec": {
   "display_name": "Python 3 (ipykernel)",
   "language": "python",
   "name": "python3"
  },
  "language_info": {
   "codemirror_mode": {
    "name": "ipython",
    "version": 3
   },
   "file_extension": ".py",
   "mimetype": "text/x-python",
   "name": "python",
   "nbconvert_exporter": "python",
   "pygments_lexer": "ipython3",
   "version": "3.9.7"
  }
 },
 "nbformat": 4,
 "nbformat_minor": 5
}
